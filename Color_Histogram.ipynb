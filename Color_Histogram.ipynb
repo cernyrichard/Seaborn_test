{
 "cells": [
  {
   "cell_type": "code",
   "execution_count": 62,
   "metadata": {},
   "outputs": [],
   "source": [
    "import numpy as np\n",
    "import cv2 as cv\n",
    "from matplotlib import pyplot as plt"
   ]
  },
  {
   "cell_type": "code",
   "execution_count": 63,
   "metadata": {},
   "outputs": [],
   "source": [
    "def Histogram_Computation(image):\n",
    "    \n",
    "    image_height = image.shape[0]\n",
    "    image_width = image.shape[1]\n",
    "    image_channels = image.shape[2]\n",
    "\n",
    "    Histogram = np.zeros([256, image_channels], np.int32)\n",
    "\n",
    "    for x in range(0, image_height):\n",
    "        for y in range(0, image_width):\n",
    "            for z in range(0, image_channels):\n",
    "                Histogram[image[x, y, z,], z] +=1\n",
    "    \n",
    "    return Histogram\n",
    "\n"
   ]
  },
  {
   "cell_type": "code",
   "execution_count": 64,
   "metadata": {},
   "outputs": [],
   "source": [
    "def Plot_Histogram(Histogram):\n",
    "    plt.figure()\n",
    "    plt.title(\"Color Image Histogram\")\n",
    "    plt.xlabel(\"Intesity Level\")\n",
    "    plt.ylabel(\"Intensity Frequency\")\n",
    "    plt.xlim([0, 256])\n",
    "    plt.plot(Histogram[:,0],'b')\n",
    "    plt.plot(Histogram[:,1],'g')\n",
    "    plt.plot(Histogram[:,2],'r')\n",
    "    plt.savefig(\"Color_Histogram.bmp\")\n",
    "    "
   ]
  },
  {
   "cell_type": "code",
   "execution_count": 65,
   "metadata": {},
   "outputs": [],
   "source": [
    "#Nacteni barevneho obrazku\n",
    "def main ():\n",
    "    input_image = cv.imread('CVB_1.bmp')\n",
    "    Histogram = Histogram_Computation(input_image)\n",
    "\n",
    "    for i in range(0, Histogram.shape[0]):\n",
    "        for n in range(0, Histogram.shape[1]):\n",
    "            print(\"Histogram[\" , i, \", \", n, \"]: \", Histogram[i,n])\n",
    "\n",
    "    Plot_Histogram(Histogram)\n",
    "    \n",
    "   "
   ]
  }
 ],
 "metadata": {
  "interpreter": {
   "hash": "aee8b7b246df8f9039afb4144a1f6fd8d2ca17a180786b69acc140d282b71a49"
  },
  "kernelspec": {
   "display_name": "Python 3.10.3 64-bit",
   "language": "python",
   "name": "python3"
  },
  "language_info": {
   "codemirror_mode": {
    "name": "ipython",
    "version": 3
   },
   "file_extension": ".py",
   "mimetype": "text/x-python",
   "name": "python",
   "nbconvert_exporter": "python",
   "pygments_lexer": "ipython3",
   "version": "3.10.3"
  },
  "orig_nbformat": 4
 },
 "nbformat": 4,
 "nbformat_minor": 2
}
