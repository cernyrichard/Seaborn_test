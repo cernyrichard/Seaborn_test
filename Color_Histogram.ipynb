{
 "cells": [
  {
   "cell_type": "code",
   "execution_count": 21,
   "metadata": {},
   "outputs": [],
   "source": [
    "import numpy as np\n",
    "import cv2 as cv\n",
    "from matplotlib import pyplot as plt"
   ]
  },
  {
   "cell_type": "code",
   "execution_count": 27,
   "metadata": {},
   "outputs": [],
   "source": [
    "def Histogram_Computation(image):\n",
    "    \n",
    "    image_height = image.shape[0]\n",
    "    image_width = image.shape[1]\n",
    "    image_channels = image.shape[2]\n",
    "\n",
    "    Histogram = np.zeros([256, image_channels], np.int32)\n",
    "\n",
    "    for x in range(0, image_height):\n",
    "        for y in range(0, image_width):\n",
    "            for z in range(0, image_channels):\n",
    "                Histogram[image[x, y, z,], z] +=1\n",
    "    \n",
    "    return Histogram\n",
    "\n"
   ]
  },
  {
   "cell_type": "code",
   "execution_count": 23,
   "metadata": {},
   "outputs": [],
   "source": [
    "def Plot_Histogram(Histogram):\n",
    "    plt.figure()\n",
    "    plt.title(\"Color Image Histogram\")\n",
    "    plt.xlabel(\"Intesity Level\")\n",
    "    plt.ylabel(\"Intensity Frequency\")\n",
    "    plt.xlim([0, 256])\n",
    "    plt.plot(Histogram[:,0],'b')\n",
    "    plt.plot(Histogram[:,1],'g')\n",
    "    plt.plot(Histogram[:,2],'r')\n",
    "    plt.savefig(\"Color_Histogram.jpg\")\n",
    "    "
   ]
  },
  {
   "cell_type": "code",
   "execution_count": 24,
   "metadata": {},
   "outputs": [],
   "source": [
    "#Nacteni barevneho obrazku\n",
    "def main ():\n",
    "    input_image = cv.imread(\"Test.bmp\")\n",
    "    Histogram = Histogram_Computation(input_image)\n",
    "\n",
    "    for i in range(0, Histogram.shape[0]):\n",
    "        for n in range(0, Histogram[1]):\n",
    "            print(\"Histogram[\" , i, \", \", n, \"]: \", Histogram[i,n])\n",
    "\n",
    "    Plot_Histogram(Histogram)"
   ]
  },
  {
   "cell_type": "code",
   "execution_count": 25,
   "metadata": {},
   "outputs": [
    {
     "name": "stderr",
     "output_type": "stream",
     "text": [
      "[ WARN:0@382.379] global /Users/runner/work/opencv-python/opencv-python/opencv/modules/imgcodecs/src/loadsave.cpp (239) findDecoder imread_('Test.bmp'): can't open/read file: check file path/integrity\n"
     ]
    },
    {
     "ename": "AttributeError",
     "evalue": "'NoneType' object has no attribute 'shape'",
     "output_type": "error",
     "traceback": [
      "\u001b[0;31m---------------------------------------------------------------------------\u001b[0m",
      "\u001b[0;31mAttributeError\u001b[0m                            Traceback (most recent call last)",
      "\u001b[1;32m/Users/richardcerny/Documents/GitHub/Seaborn_test/Color_Histogram.ipynb Cell 5'\u001b[0m in \u001b[0;36m<cell line: 1>\u001b[0;34m()\u001b[0m\n\u001b[1;32m      <a href='vscode-notebook-cell:/Users/richardcerny/Documents/GitHub/Seaborn_test/Color_Histogram.ipynb#ch0000004?line=0'>1</a>\u001b[0m \u001b[39mif\u001b[39;00m \u001b[39m__name__\u001b[39m \u001b[39m==\u001b[39m \u001b[39m'\u001b[39m\u001b[39m__main__\u001b[39m\u001b[39m'\u001b[39m:\n\u001b[0;32m----> <a href='vscode-notebook-cell:/Users/richardcerny/Documents/GitHub/Seaborn_test/Color_Histogram.ipynb#ch0000004?line=1'>2</a>\u001b[0m \tmain()\n",
      "\u001b[1;32m/Users/richardcerny/Documents/GitHub/Seaborn_test/Color_Histogram.ipynb Cell 4'\u001b[0m in \u001b[0;36mmain\u001b[0;34m()\u001b[0m\n\u001b[1;32m      <a href='vscode-notebook-cell:/Users/richardcerny/Documents/GitHub/Seaborn_test/Color_Histogram.ipynb#ch0000003?line=1'>2</a>\u001b[0m \u001b[39mdef\u001b[39;00m \u001b[39mmain\u001b[39m ():\n\u001b[1;32m      <a href='vscode-notebook-cell:/Users/richardcerny/Documents/GitHub/Seaborn_test/Color_Histogram.ipynb#ch0000003?line=2'>3</a>\u001b[0m     input_image \u001b[39m=\u001b[39m cv\u001b[39m.\u001b[39mimread(\u001b[39m\"\u001b[39m\u001b[39mTest.bmp\u001b[39m\u001b[39m\"\u001b[39m)\n\u001b[0;32m----> <a href='vscode-notebook-cell:/Users/richardcerny/Documents/GitHub/Seaborn_test/Color_Histogram.ipynb#ch0000003?line=3'>4</a>\u001b[0m     Histogram \u001b[39m=\u001b[39m Histogram_Computation(input_image)\n\u001b[1;32m      <a href='vscode-notebook-cell:/Users/richardcerny/Documents/GitHub/Seaborn_test/Color_Histogram.ipynb#ch0000003?line=5'>6</a>\u001b[0m     \u001b[39mfor\u001b[39;00m i \u001b[39min\u001b[39;00m \u001b[39mrange\u001b[39m(\u001b[39m0\u001b[39m, Histogram\u001b[39m.\u001b[39mshape[\u001b[39m0\u001b[39m]):\n\u001b[1;32m      <a href='vscode-notebook-cell:/Users/richardcerny/Documents/GitHub/Seaborn_test/Color_Histogram.ipynb#ch0000003?line=6'>7</a>\u001b[0m         \u001b[39mfor\u001b[39;00m n \u001b[39min\u001b[39;00m \u001b[39mrange\u001b[39m(\u001b[39m0\u001b[39m, Histogram[\u001b[39m1\u001b[39m]):\n",
      "\u001b[1;32m/Users/richardcerny/Documents/GitHub/Seaborn_test/Color_Histogram.ipynb Cell 2'\u001b[0m in \u001b[0;36mHistogram_Computation\u001b[0;34m(image)\u001b[0m\n\u001b[1;32m      <a href='vscode-notebook-cell:/Users/richardcerny/Documents/GitHub/Seaborn_test/Color_Histogram.ipynb#ch0000001?line=0'>1</a>\u001b[0m \u001b[39mdef\u001b[39;00m \u001b[39mHistogram_Computation\u001b[39m(image):\n\u001b[1;32m      <a href='vscode-notebook-cell:/Users/richardcerny/Documents/GitHub/Seaborn_test/Color_Histogram.ipynb#ch0000001?line=1'>2</a>\u001b[0m     \u001b[39m# get dimensions of image\u001b[39;00m\n\u001b[0;32m----> <a href='vscode-notebook-cell:/Users/richardcerny/Documents/GitHub/Seaborn_test/Color_Histogram.ipynb#ch0000001?line=2'>3</a>\u001b[0m     image_height \u001b[39m=\u001b[39m image\u001b[39m.\u001b[39;49mshape[\u001b[39m0\u001b[39m]\n\u001b[1;32m      <a href='vscode-notebook-cell:/Users/richardcerny/Documents/GitHub/Seaborn_test/Color_Histogram.ipynb#ch0000001?line=3'>4</a>\u001b[0m     image_width \u001b[39m=\u001b[39m image\u001b[39m.\u001b[39mshape[\u001b[39m1\u001b[39m]\n\u001b[1;32m      <a href='vscode-notebook-cell:/Users/richardcerny/Documents/GitHub/Seaborn_test/Color_Histogram.ipynb#ch0000001?line=4'>5</a>\u001b[0m     image_channels \u001b[39m=\u001b[39m image\u001b[39m.\u001b[39mshape[\u001b[39m2\u001b[39m]\n",
      "\u001b[0;31mAttributeError\u001b[0m: 'NoneType' object has no attribute 'shape'"
     ]
    }
   ],
   "source": [
    "if __name__ == '__main__':\n",
    "\tmain()"
   ]
  }
 ],
 "metadata": {
  "interpreter": {
   "hash": "aee8b7b246df8f9039afb4144a1f6fd8d2ca17a180786b69acc140d282b71a49"
  },
  "kernelspec": {
   "display_name": "Python 3.10.3 64-bit",
   "language": "python",
   "name": "python3"
  },
  "language_info": {
   "codemirror_mode": {
    "name": "ipython",
    "version": 3
   },
   "file_extension": ".py",
   "mimetype": "text/x-python",
   "name": "python",
   "nbconvert_exporter": "python",
   "pygments_lexer": "ipython3",
   "version": "3.10.3"
  },
  "orig_nbformat": 4
 },
 "nbformat": 4,
 "nbformat_minor": 2
}
